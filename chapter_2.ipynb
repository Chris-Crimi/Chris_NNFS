{
 "cells": [
  {
   "cell_type": "code",
   "execution_count": 1,
   "metadata": {},
   "outputs": [
    {
     "name": "stdout",
     "output_type": "stream",
     "text": [
      "4.8\n"
     ]
    }
   ],
   "source": [
    "inputs = [1, 2, 3, 2.5]\n",
    "weights = [0.2, 0.8, -0.5, 1]\n",
    "bias = 2\n",
    "\n",
    "output = (inputs[0] * weights[0]\n",
    "           + inputs[1] * weights[1]\n",
    "           + inputs[2] * weights[2]\n",
    "           + inputs[3] * weights[3] \n",
    "           + bias)\n",
    "print(output)"
   ]
  },
  {
   "cell_type": "markdown",
   "metadata": {},
   "source": [
    "Layers from Scratch\n",
    "- A crude example of a fully connected network i.e. all neurons have connections to every other neuron. This is opposed to sparsely connected networks, which neurons are not connected at every layer.\n"
   ]
  },
  {
   "cell_type": "code",
   "execution_count": 4,
   "metadata": {},
   "outputs": [
    {
     "name": "stdout",
     "output_type": "stream",
     "text": [
      "[4.8, 1.21, 2.385]\n"
     ]
    }
   ],
   "source": [
    "inputs = [1, 2, 3, 2.5]\n",
    "weights1 = [0.2, 0.8, -0.5, 1]\n",
    "weights2 = [.5, -.91, .26, -.5]\n",
    "weights3 = [-.26, -.27, .17, .87]\n",
    "bias1 = 2\n",
    "bias2 = 3\n",
    "bias3 = .5\n",
    "\n",
    "output = [inputs[0] * weights1[0]\n",
    "           + inputs[1] * weights1[1]\n",
    "           + inputs[2] * weights1[2]\n",
    "           + inputs[3] * weights1[3] + bias1,\n",
    "           inputs[0] * weights2[0]\n",
    "           + inputs[1] * weights2[1]\n",
    "           + inputs[2] * weights2[2]\n",
    "           + inputs[3] * weights2[3] + bias2,\n",
    "           inputs[0] * weights3[0]\n",
    "           + inputs[1] * weights3[1]\n",
    "           + inputs[2] * weights3[2]\n",
    "           + inputs[3] * weights3[3] + bias3,\n",
    "           ]\n",
    "\n",
    "print(output)"
   ]
  },
  {
   "cell_type": "markdown",
   "metadata": {},
   "source": [
    "A More Dynamic Implementation\n",
    "- iterate over the weights in biases using zip, in other words: for each neuron\n",
    "- integrate (add up) the output of the neuron over each weight times input then add the bias\n",
    "- append each to the layer output list"
   ]
  },
  {
   "cell_type": "code",
   "execution_count": 1,
   "metadata": {},
   "outputs": [
    {
     "name": "stdout",
     "output_type": "stream",
     "text": [
      "[4.8, 1.21, 2.385]\n"
     ]
    }
   ],
   "source": [
    "inputs = [1, 2, 3, 2.5]\n",
    "weights = [[0.2, 0.8, -0.5, 1],[0.5, -0.91, 0.26, -0.5],[-0.26, -0.27, 0.17, 0.87]]\n",
    "\n",
    "biases = [2, 3, .5]\n",
    "\n",
    "layer_outputs = []\n",
    "\n",
    "for neuron_weights, neuron_bias in zip(weights, biases):\n",
    "    neuron_output = 0\n",
    "    for n_input, weight in zip(inputs, neuron_weights):\n",
    "        neuron_output += n_input * weight\n",
    "    neuron_output += neuron_bias\n",
    "    layer_outputs.append(neuron_output)\n",
    "\n",
    "print(layer_outputs)"
   ]
  }
 ],
 "metadata": {
  "kernelspec": {
   "display_name": "base",
   "language": "python",
   "name": "python3"
  },
  "language_info": {
   "codemirror_mode": {
    "name": "ipython",
    "version": 3
   },
   "file_extension": ".py",
   "mimetype": "text/x-python",
   "name": "python",
   "nbconvert_exporter": "python",
   "pygments_lexer": "ipython3",
   "version": "3.7.16"
  }
 },
 "nbformat": 4,
 "nbformat_minor": 2
}
