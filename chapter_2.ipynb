{
 "cells": [
  {
   "cell_type": "code",
   "execution_count": 1,
   "metadata": {},
   "outputs": [
    {
     "name": "stdout",
     "output_type": "stream",
     "text": [
      "4.8\n"
     ]
    }
   ],
   "source": [
    "inputs = [1, 2, 3, 2.5]\n",
    "weights = [0.2, 0.8, -0.5, 1]\n",
    "bias = 2\n",
    "\n",
    "output = (inputs[0] * weights[0]\n",
    "           + inputs[1] * weights[1]\n",
    "           + inputs[2] * weights[2]\n",
    "           + inputs[3] * weights[3] \n",
    "           + bias)\n",
    "print(output)"
   ]
  },
  {
   "cell_type": "markdown",
   "metadata": {},
   "source": [
    "Layers from Scratch\n",
    "- A crude example of a fully connected network i.e. all neurons have connections to every other neuron. This is opposed to sparsely connected networks, which neurons are not connected at every layer.\n"
   ]
  },
  {
   "cell_type": "code",
   "execution_count": 4,
   "metadata": {},
   "outputs": [
    {
     "name": "stdout",
     "output_type": "stream",
     "text": [
      "[4.8, 1.21, 2.385]\n"
     ]
    }
   ],
   "source": [
    "inputs = [1, 2, 3, 2.5]\n",
    "weights1 = [0.2, 0.8, -0.5, 1]\n",
    "weights2 = [.5, -.91, .26, -.5]\n",
    "weights3 = [-.26, -.27, .17, .87]\n",
    "bias1 = 2\n",
    "bias2 = 3\n",
    "bias3 = .5\n",
    "\n",
    "output = [inputs[0] * weights1[0]\n",
    "           + inputs[1] * weights1[1]\n",
    "           + inputs[2] * weights1[2]\n",
    "           + inputs[3] * weights1[3] + bias1,\n",
    "           inputs[0] * weights2[0]\n",
    "           + inputs[1] * weights2[1]\n",
    "           + inputs[2] * weights2[2]\n",
    "           + inputs[3] * weights2[3] + bias2,\n",
    "           inputs[0] * weights3[0]\n",
    "           + inputs[1] * weights3[1]\n",
    "           + inputs[2] * weights3[2]\n",
    "           + inputs[3] * weights3[3] + bias3,\n",
    "           ]\n",
    "\n",
    "print(output)"
   ]
  },
  {
   "cell_type": "markdown",
   "metadata": {},
   "source": [
    "A More Dynamic Implementation\n",
    "- iterate over the weights in biases using zip, in other words: for each neuron. Three sets of weights and three biases = 3 neurons\n",
    "- integrate (add up) the output of the neuron over each weight times input then add the bias\n",
    "- append each to the layer output list"
   ]
  },
  {
   "cell_type": "code",
   "execution_count": 1,
   "metadata": {},
   "outputs": [
    {
     "name": "stdout",
     "output_type": "stream",
     "text": [
      "[4.8, 1.21, 2.385]\n"
     ]
    }
   ],
   "source": [
    "inputs = [1, 2, 3, 2.5]\n",
    "weights = [[0.2, 0.8, -0.5, 1],[0.5, -0.91, 0.26, -0.5],[-0.26, -0.27, 0.17, 0.87]]\n",
    "\n",
    "biases = [2, 3, .5]\n",
    "\n",
    "layer_outputs = []\n",
    "\n",
    "for neuron_weights, neuron_bias in zip(weights, biases):\n",
    "    neuron_output = 0\n",
    "    for n_input, weight in zip(inputs, neuron_weights):\n",
    "        neuron_output += n_input * weight\n",
    "    neuron_output += neuron_bias\n",
    "    layer_outputs.append(neuron_output)\n",
    "\n",
    "print(layer_outputs)"
   ]
  },
  {
   "cell_type": "markdown",
   "metadata": {},
   "source": [
    "Matrix, Array, Tensors\n",
    "-Terms are used somewhat interchangeably when it comes to ML/AI\n",
    "-Arrays are homologous - meaning for each row, the row length is identical, or for each column the column length is identical - this is along 2 dimensions. Generally, there must be consistency across dimensions\n",
    "- Arrays defined as row count, column count : 3x2, (3,2) => 3 rows 2 columns\n",
    "- Matrix is a subset of arrays => two dimensional homologous array.\n",
    "- Determine array size of dimensions by counting the number of elements inside each braket (see example below)\n",
    "- Tensors are not just arrays, but are represented as arrays for coding purposes\n",
    "- linear array = 1D array\n",
    "- Vector = 1D array\n",
    "- My own research shows that tensor is a phrase used for arrays >= 3D; others say it is a generalization of scalars and vectors\n"
   ]
  },
  {
   "cell_type": "code",
   "execution_count": 1,
   "metadata": {},
   "outputs": [],
   "source": [
    "non_homologous_array = [[4,2,3],\n",
    "                        [5,1]]\n",
    "\n",
    "matrix_and_array = [[4,2],\n",
    "                    [5,1],\n",
    "                    [8,2]]\n",
    "\n",
    "#first level of this array is a list of three lists => 1st dimension is 3\n",
    "#second level of this array is a list of two lists => 2nd dimension is 2\n",
    "#third level of this array is a list of 4 integers => 3rd dimension is 4\n",
    "lolol = [[[1,5,6,2],\n",
    "          [3,2,1,3]],\n",
    "         [[5,2,1,2],\n",
    "           [6,4,8,4]],\n",
    "         [[2,8,5,3],\n",
    "           [1,1,9,4]]]\n",
    "#array size is (3,2,4) => 3D array"
   ]
  },
  {
   "cell_type": "markdown",
   "metadata": {},
   "source": [
    "Dot Product and Vector Addition\n",
    "- Dot products between (2) vectors result in a scalar, a single value, because vectors are 1D\n",
    "- Dot product of vectors is sum of the products of consecutive elements between two arrays\n",
    "===> this is the operation needed to multiply weights and neuron inputs\n",
    "- Vector addition is done element wise, each item in one vector is added to the same respective position in another vector \n",
    "====>this is how biases are added in"
   ]
  },
  {
   "cell_type": "code",
   "execution_count": 2,
   "metadata": {},
   "outputs": [
    {
     "name": "stdout",
     "output_type": "stream",
     "text": [
      "20\n"
     ]
    }
   ],
   "source": [
    "a = [1, 2, 3] #aka inputs to neurons\n",
    "b = [2, 3, 4] #aka weights of neurons\n",
    "\n",
    "dot_product = a[0]*b[0] + a[1]*b[1] + a[2]*b[2]\n",
    "print(dot_product)"
   ]
  },
  {
   "cell_type": "markdown",
   "metadata": {},
   "source": [
    "A Single Neuron with NumPy\n",
    "- using dot products and vector addition to calculate final neuron output "
   ]
  },
  {
   "cell_type": "code",
   "execution_count": 6,
   "metadata": {},
   "outputs": [
    {
     "name": "stdout",
     "output_type": "stream",
     "text": [
      "4.8\n"
     ]
    }
   ],
   "source": [
    "import numpy as np\n",
    "\n",
    "inputs = [1.0, 2.0, 3.0, 2.5]\n",
    "weights = [0.2, 0.8, -0.5, 1.0]\n",
    "bias = 2\n",
    "\n",
    "outputs = np.dot(weights,inputs) + bias\n",
    "print(outputs)"
   ]
  },
  {
   "cell_type": "markdown",
   "metadata": {},
   "source": [
    "A Layer of Neurons with NumPy\n",
    "- multiple neurons recieving same inputs (e.g., a layer)\n",
    "- changes from a vector (1D) to a matrix (2D), because now have a list of list of weights => a set of weights for each Neuron in the layer\n",
    "- Do the dot product of weights matrix and input vector => now results in a vector rather than scalar because multiple neurons result in multiple scalars. Vector size will be number of neurons, allows next bullet point below to work\n",
    "- Add biases element wise to the resulting scalar"
   ]
  },
  {
   "cell_type": "code",
   "execution_count": 11,
   "metadata": {},
   "outputs": [
    {
     "name": "stdout",
     "output_type": "stream",
     "text": [
      "[4.8   1.21  2.385]\n"
     ]
    }
   ],
   "source": [
    "import numpy as np\n",
    "\n",
    "inputs = [1.0, 2.0, 3.0, 2.5] #four inputs\n",
    "weights = [[0.2, 0.8, -0.5, 1], #three neurons with four weights for each input\n",
    "           [0.5, -0.91, 0.26, -0.5],\n",
    "           [-0.26, -0.27, 0.17, 0.87]]\n",
    "biases = [2.0, 3.0, 0.5] #three biases for three neurons\n",
    "\n",
    "#numpy automatically converts lists above to arrays\n",
    "layer_outputs = np.dot(weights, inputs) + biases\n",
    "#Matrix multiplication is a dot product of the first matrix's row and the second matrix's first column. \n",
    "#So because each row represents neuron weights in the weights matrix and we want to do the dot product\n",
    "#of the weights and inputs, weights should be first inputs should be second. \n",
    "#also works because weights have matrix size (3,4) and inputs size is (4,), so row len matches col len\n",
    "\n",
    "print(layer_outputs)"
   ]
  },
  {
   "cell_type": "markdown",
   "metadata": {},
   "source": [
    "Batch Size\n",
    "- Neural nets are typically trained in batches - or groups of multiple samples (or observations) of various features in a feature set\n",
    "= sample = obeservation = feature set instance\n",
    "= In my understanding: feature set => the independent variables/attributes/properties used to model the dependent variable\n",
    "-Using small batch sizes causes the gradient updates/fitting aka convergence to bounce around because less samples are used to estimate gradient. Using more samples has a more direct convergence, but at the cost of: (1) more memory usage and (2) slow down associated with computing gradient for a greater number of samples\n",
    "\n",
    "No code examples"
   ]
  }
 ],
 "metadata": {
  "kernelspec": {
   "display_name": "base",
   "language": "python",
   "name": "python3"
  },
  "language_info": {
   "codemirror_mode": {
    "name": "ipython",
    "version": 3
   },
   "file_extension": ".py",
   "mimetype": "text/x-python",
   "name": "python",
   "nbconvert_exporter": "python",
   "pygments_lexer": "ipython3",
   "version": "3.7.16"
  }
 },
 "nbformat": 4,
 "nbformat_minor": 2
}
