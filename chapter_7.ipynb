{
 "cells": [
  {
   "cell_type": "markdown",
   "metadata": {},
   "source": [
    "Derivatives\n",
    "- Randomly searching for weights and biases does not work because the number of possible combinations of them is infinite\n",
    "- the loss function is not part of the final output of the network , but is impacted by the weights and biases.\n",
    "- impacts of samples, weights, and biases on the network output can be/are non-linear\n",
    "- need to use derivatives, gradients, chain rule to perform backpropagation to minimize the loss"
   ]
  },
  {
   "cell_type": "markdown",
   "metadata": {},
   "source": [
    "Slope\n",
    "- change in function's y value divided by change in x value = delta y / delta x ; (x1 - x0) / (y1 - y0)\n",
    "- can use this to calculate linear slopes or point estimates of slopes for non linear functions\n",
    "- can do point estimate of non linear function by calculating the change in y for a very small change in x (not too small though that the computer rounds it to 0)\n",
    "- for non linear: slope depends on where you measure it (ie slope is function of x)"
   ]
  },
  {
   "cell_type": "code",
   "execution_count": 12,
   "metadata": {},
   "outputs": [
    {
     "name": "stdout",
     "output_type": "stream",
     "text": [
      "Linear Func Slope: 2.0\n",
      "Non Linear func Slope 1st 2: 2.0\n",
      "Non Linear func Slope Later Values: 10.0\n",
      "4.0001999999987845\n"
     ]
    }
   ],
   "source": [
    "import numpy as np\n",
    "\n",
    "#linear function\n",
    "def f(x):\n",
    "    return 2*x\n",
    "\n",
    "x = np.array(range(5))\n",
    "y = f(x)\n",
    "\n",
    "print(\"Linear Func Slope:\", (y[1] - y[0]) / (x[1] - x[0]))\n",
    "\n",
    "\n",
    "#non-linear function\n",
    "\n",
    "def f(x):\n",
    "    return 2*x**2\n",
    "\n",
    "x = np.array(range(5))\n",
    "y = f(x)\n",
    "\n",
    "print(\"Non Linear func Slope 1st 2:\", (y[1] - y[0]) / (x[1] - x[0]))\n",
    "print(\"Non Linear func Slope Later Values:\", (y[3] - y[2]) / (x[3] - x[2]))\n",
    "\n",
    "\n",
    "p2_delta = 0.0001\n",
    "x1 = 1\n",
    "x2 = x1 + p2_delta # add delta\n",
    "\n",
    "y1 = f(x1) # result at the derivation point\n",
    "y2 = f(x2) # result at the other, close point\n",
    "\n",
    "approximate_derivative = (y2-y1)/(x2-x1) #this section of the curve just happened to produce slope of 4, would've been different else where\n",
    "print(approximate_derivative)\n"
   ]
  },
  {
   "cell_type": "markdown",
   "metadata": {},
   "source": [
    "Numerical Derivative\n",
    "- the slope of a tangent line - a line between two points on the curve defined by two infintensimally close points, aka the instantaneous slope, or the derivative\n",
    "- "
   ]
  },
  {
   "cell_type": "code",
   "execution_count": null,
   "metadata": {},
   "outputs": [],
   "source": []
  }
 ],
 "metadata": {
  "kernelspec": {
   "display_name": "base",
   "language": "python",
   "name": "python3"
  },
  "language_info": {
   "codemirror_mode": {
    "name": "ipython",
    "version": 3
   },
   "file_extension": ".py",
   "mimetype": "text/x-python",
   "name": "python",
   "nbconvert_exporter": "python",
   "pygments_lexer": "ipython3",
   "version": "3.7.16"
  }
 },
 "nbformat": 4,
 "nbformat_minor": 2
}
