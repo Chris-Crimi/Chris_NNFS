{
 "cells": [
  {
   "cell_type": "markdown",
   "metadata": {},
   "source": [
    "Derivatives\n",
    "- Randomly searching for weights and biases does not work because the number of possible combinations of them is infinite\n",
    "- the loss function is not part of the final output of the network , but is impacted by the weights and biases.\n",
    "- impacts of samples, weights, and biases on the network output can be/are non-linear\n",
    "- need to use derivatives, gradients, chain rule to perform backpropagation to minimize the loss"
   ]
  },
  {
   "cell_type": "markdown",
   "metadata": {},
   "source": [
    "Slope\n",
    "- change in function's y value divided by change in x value = delta y / delta x ; (x1 - x0) / (y1 - y0)\n",
    "- can use this to calculate linear slopes or point estimates of slopes for non linear functions\n",
    "- can do point estimate of non linear function by calculating the change in y for a very small change in x (not too small though that the computer rounds it to 0)\n",
    "- for non linear: slope depends on where you measure it (ie slope is function of x)"
   ]
  },
  {
   "cell_type": "code",
   "execution_count": 12,
   "metadata": {},
   "outputs": [
    {
     "name": "stdout",
     "output_type": "stream",
     "text": [
      "Linear Func Slope: 2.0\n",
      "Non Linear func Slope 1st 2: 2.0\n",
      "Non Linear func Slope Later Values: 10.0\n",
      "4.0001999999987845\n"
     ]
    }
   ],
   "source": [
    "import numpy as np\n",
    "\n",
    "#linear function\n",
    "def f(x):\n",
    "    return 2*x\n",
    "\n",
    "x = np.array(range(5))\n",
    "y = f(x)\n",
    "\n",
    "print(\"Linear Func Slope:\", (y[1] - y[0]) / (x[1] - x[0]))\n",
    "\n",
    "\n",
    "#non-linear function\n",
    "\n",
    "def f(x):\n",
    "    return 2*x**2\n",
    "\n",
    "x = np.array(range(5))\n",
    "y = f(x)\n",
    "\n",
    "print(\"Non Linear func Slope 1st 2:\", (y[1] - y[0]) / (x[1] - x[0]))\n",
    "print(\"Non Linear func Slope Later Values:\", (y[3] - y[2]) / (x[3] - x[2]))\n",
    "\n",
    "\n",
    "p2_delta = 0.0001\n",
    "x1 = 1\n",
    "x2 = x1 + p2_delta # add delta\n",
    "\n",
    "y1 = f(x1) # result at the derivation point\n",
    "y2 = f(x2) # result at the other, close point\n",
    "\n",
    "approximate_derivative = (y2-y1)/(x2-x1) #this section of the curve just happened to produce slope of 4, would've been different else where\n",
    "print(approximate_derivative)\n"
   ]
  },
  {
   "cell_type": "markdown",
   "metadata": {},
   "source": [
    "Numerical Derivative\n",
    "- the slope of a tangent line - a line between two points on the curve defined by two infintensimally close points, aka the instantaneous slope, or the derivative\n",
    "- the tangent line to a point on a function is tells you the instantaneous rate of change, and as x changes this value changes, so it is impacted by x\n",
    "- Can numerically estimate this by calculating the differnce in y values between two sufficiently close points\n",
    "- this method is not accurate or efficient enough to be used in a NN\n",
    "- would require calculating model loss, then adjusting 1 parameter by very small value, then recalculating model loss to estimate change in loss, then revert back and repeat for every parameter"
   ]
  },
  {
   "cell_type": "code",
   "execution_count": 1,
   "metadata": {},
   "outputs": [
    {
     "name": "stdout",
     "output_type": "stream",
     "text": [
      "(0, 0) (0.0001, 2e-12)\n",
      "Approximate derivative for f(x)where x = 0 is 1.9999999999999997e-08\n",
      "(1, 2) (1.0001, 2.0006000600019997)\n",
      "Approximate derivative for f(x)where x = 1 is 6.0006000199981315\n",
      "(2, 16) (2.0001, 16.002400120002005)\n",
      "Approximate derivative for f(x)where x = 2 is 24.00120001999448\n",
      "(3, 54) (3.0001, 54.00540018000201)\n",
      "Approximate derivative for f(x)where x = 3 is 54.00180002001748\n",
      "(4, 128) (4.0001, 128.009600240002)\n",
      "Approximate derivative for f(x)where x = 4 is 96.00240002009377\n"
     ]
    },
    {
     "data": {
      "image/png": "[encoded data removed]",
      "text/plain": [
       "<Figure size 432x288 with 1 Axes>"
      ]
     },
     "metadata": {
      "needs_background": "light"
     },
     "output_type": "display_data"
    }
   ],
   "source": [
    "import matplotlib.pyplot as plt\n",
    "import numpy as np\n",
    "\n",
    "def f(x):\n",
    "    return 2*x*x**2\n",
    "\n",
    "x = np.array(np.arange(0,5,.001)) #gives smooth-er curve for parabola\n",
    "\n",
    "y = f(x)\n",
    "\n",
    "plt.plot(x , y)\n",
    "\n",
    "colors = ['k', 'g', 'r', 'b', 'c']\n",
    "\n",
    "def approximate_tangent_line(x , approximate_derivative): # calcualtes the y value point of the poinrt for the tangent line \n",
    "    return (approximate_derivative * x) + b\n",
    "\n",
    "for i in range(5):\n",
    "    p2_delta = .0001\n",
    "\n",
    "    x1 = i\n",
    "    x2 = x1 + p2_delta\n",
    "\n",
    "    y1 = f(x1)\n",
    "    y2 = f(x2)\n",
    "\n",
    "    print((x1, y1), (x2, y2))\n",
    "\n",
    "    approximate_derivative = (y2 - y1) / (x2- x1)\n",
    "    b = y2 - approximate_derivative*x2\n",
    "\n",
    "    to_plot = [x1-0.9, x1, x1+0.9]\n",
    "\n",
    "    plt.scatter(x1, y1, c=colors[i]) #plot the dots\n",
    "\n",
    "    plt.plot([point for point in to_plot], #plot the lines x vals is first arg, y vals is second arg\n",
    "             [approximate_tangent_line(point, approximate_derivative) for point in to_plot], \n",
    "             c=colors[i]\n",
    "             )\n",
    "\n",
    "    print('Approximate derivative for f(x)' f'where x = {x1} is {approximate_derivative}')\n"
   ]
  },
  {
   "cell_type": "markdown",
   "metadata": {},
   "source": [
    "The Analytical Derivative\n",
    "- more efficient and precise method of calculting the gradients; however, can be more difficult to analyze the analytical solution for a derivative, whereas numerically, complexity is relatively constant (just use steps described above)\n",
    "- do reduce the percieved complexity of analytical solutoins, can use easy derivatives or breaking down complex functions via chain rule\n",
    "- analytical derivate of f noted as f' or d/dx\n",
    "\n",
    "Simple Derivatives\n",
    "- derivative of constant is 0 => tangent line is flat and has no slope\n",
    "- linear function => derivative is constant, the slope of the line, as the tangent line slope is the line slope. \n",
    "\n",
    "\n",
    "General Rule: subtract 1 from the exponent and multiply the whole function by the previous exponent. See book\n",
    "- ex: 3x^2 = 3 * 2 * x^1 = 6x\n",
    "- f'(x) = n * x ^ (n-1) where f(x) = x^n\n",
    "\n",
    "Additive: derivatives are additive, thus can break down multinomial functions into separate derivatives and add together again\n",
    "- ex: d/dx(f(x) + g(x)) = d/dxf(x) + d/dxg(x) \n",
    "\n",
    "\n"
   ]
  },
  {
   "cell_type": "code",
   "execution_count": null,
   "metadata": {},
   "outputs": [],
   "source": []
  }
 ],
 "metadata": {
  "kernelspec": {
   "display_name": "base",
   "language": "python",
   "name": "python3"
  },
  "language_info": {
   "codemirror_mode": {
    "name": "ipython",
    "version": 3
   },
   "file_extension": ".py",
   "mimetype": "text/x-python",
   "name": "python",
   "nbconvert_exporter": "python",
   "pygments_lexer": "ipython3",
   "version": "3.7.16"
  }
 },
 "nbformat": 4,
 "nbformat_minor": 2
}
